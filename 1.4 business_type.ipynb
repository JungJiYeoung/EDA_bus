{
 "cells": [
  {
   "cell_type": "markdown",
   "id": "boxed-jamaica",
   "metadata": {
    "id": "boxed-jamaica"
   },
   "source": [
    "# 안녕하세요^^ \n",
    "## '서울시 생활정보 기반 대중교통 수요 분석 ' 과정에 오신 여러분을 환영합니다.\n",
    "* 본 과정에서는 실제 사례와 데이터를 기반으로 문제를 해결하는 전체 과정을 자기 주도형 실습으로 진행해볼 예정입니다.\n",
    "* 앞선 교육과정을 정리하는 마음과 지금까지 배운 내용을 바탕으로 문제 해결을 해볼게요!\n",
    "* 미니 프로젝트를 통한 문제 해결 과정 'A에서 Z까지', 지금부터 시작합니다!"
   ]
  },
  {
   "cell_type": "markdown",
   "id": "ef575059",
   "metadata": {
    "id": "ef575059"
   },
   "source": [
    "---"
   ]
  },
  {
   "cell_type": "markdown",
   "id": "f2bc4fa5",
   "metadata": {
    "id": "f2bc4fa5"
   },
   "source": [
    "# 데이터 분석부터 먼저 시작해보겠습니다.\n",
    "## \"구별 업종 등록 데이터\" 를 확인해 보도록 하겠습니다"
   ]
  },
  {
   "cell_type": "code",
   "execution_count": 1,
   "id": "4c6ced42",
   "metadata": {
    "id": "4c6ced42"
   },
   "outputs": [
    {
     "name": "stdout",
     "output_type": "stream",
     "text": [
      "Requirement already satisfied: pandas in c:\\users\\wldud\\appdata\\local\\programs\\python\\python311\\lib\\site-packages (1.5.3)\n",
      "Requirement already satisfied: seaborn in c:\\users\\wldud\\appdata\\local\\programs\\python\\python311\\lib\\site-packages (0.12.2)\n",
      "Requirement already satisfied: python-dateutil>=2.8.1 in c:\\users\\wldud\\appdata\\local\\programs\\python\\python311\\lib\\site-packages (from pandas) (2.8.2)\n",
      "Requirement already satisfied: pytz>=2020.1 in c:\\users\\wldud\\appdata\\local\\programs\\python\\python311\\lib\\site-packages (from pandas) (2022.7.1)\n",
      "Requirement already satisfied: numpy>=1.21.0 in c:\\users\\wldud\\appdata\\local\\programs\\python\\python311\\lib\\site-packages (from pandas) (1.23.5)\n",
      "Requirement already satisfied: matplotlib!=3.6.1,>=3.1 in c:\\users\\wldud\\appdata\\local\\programs\\python\\python311\\lib\\site-packages (from seaborn) (3.7.1)\n",
      "Requirement already satisfied: contourpy>=1.0.1 in c:\\users\\wldud\\appdata\\local\\programs\\python\\python311\\lib\\site-packages (from matplotlib!=3.6.1,>=3.1->seaborn) (1.0.7)\n",
      "Requirement already satisfied: cycler>=0.10 in c:\\users\\wldud\\appdata\\local\\programs\\python\\python311\\lib\\site-packages (from matplotlib!=3.6.1,>=3.1->seaborn) (0.11.0)\n",
      "Requirement already satisfied: fonttools>=4.22.0 in c:\\users\\wldud\\appdata\\local\\programs\\python\\python311\\lib\\site-packages (from matplotlib!=3.6.1,>=3.1->seaborn) (4.39.0)\n",
      "Requirement already satisfied: kiwisolver>=1.0.1 in c:\\users\\wldud\\appdata\\local\\programs\\python\\python311\\lib\\site-packages (from matplotlib!=3.6.1,>=3.1->seaborn) (1.4.4)\n",
      "Requirement already satisfied: packaging>=20.0 in c:\\users\\wldud\\appdata\\local\\programs\\python\\python311\\lib\\site-packages (from matplotlib!=3.6.1,>=3.1->seaborn) (23.0)\n",
      "Requirement already satisfied: pillow>=6.2.0 in c:\\users\\wldud\\appdata\\local\\programs\\python\\python311\\lib\\site-packages (from matplotlib!=3.6.1,>=3.1->seaborn) (9.4.0)\n",
      "Requirement already satisfied: pyparsing>=2.3.1 in c:\\users\\wldud\\appdata\\local\\programs\\python\\python311\\lib\\site-packages (from matplotlib!=3.6.1,>=3.1->seaborn) (3.0.9)\n",
      "Requirement already satisfied: six>=1.5 in c:\\users\\wldud\\appdata\\local\\programs\\python\\python311\\lib\\site-packages (from python-dateutil>=2.8.1->pandas) (1.16.0)\n",
      "Note: you may need to restart the kernel to use updated packages.\n"
     ]
    }
   ],
   "source": [
    "# 필요 라이브러리부터 설치합니다.\n",
    "%pip install pandas seaborn"
   ]
  },
  {
   "cell_type": "markdown",
   "id": "revolutionary-farmer",
   "metadata": {
    "id": "revolutionary-farmer"
   },
   "source": [
    "## 기본전제\n",
    "* 처음에 제공되는 기본/추가 데이터는 'raw_data' 폴더에 있습니다.\n",
    "\n",
    "[기본 데이터]\n",
    "* business_type.csv\n",
    "\n",
    "[데이터 소개]\n",
    "* 서울 시 구별 등록 업종 상위 10개 데이터\n",
    "    * 택시운송업\n",
    "    * 한식일반음식점업\n",
    "    * 용달 화물자동차 운송업\n",
    "    * 부동산 중개 및 대리업\n",
    "    * 두발미용업\n",
    "    * 커피전문점\n",
    "    * 남녀용 겉옷 및 셔츠 도매업\n",
    "    * 기타주점업\n",
    "    * 일반 교과 학원\n",
    "    * 한식 육류요리 전문점\n",
    "\n",
    "[변수 소개]\n",
    "* 다수 업종 상위 1~10"
   ]
  },
  {
   "cell_type": "markdown",
   "id": "matched-broad",
   "metadata": {
    "id": "matched-broad"
   },
   "source": [
    "---"
   ]
  },
  {
   "cell_type": "markdown",
   "id": "warming-gentleman",
   "metadata": {
    "id": "warming-gentleman"
   },
   "source": [
    "# 1.데이터 불러오기\n",
    "## 모든 미니 프로젝트의 시작은 '데이터 불러오기' 부터라고 할 수 있습니다.\n",
    "+ KeyPoint : 불러오고자 하는 데이터에 따라 자유롭게 변수로 지정할 수 있다."
   ]
  },
  {
   "cell_type": "markdown",
   "id": "measured-administration",
   "metadata": {
    "id": "measured-administration"
   },
   "source": [
    "###  데이터 프레임을 불러오고 변수로 저장(여기서는 CSV 기준으로 진행)\n",
    "* csv : pd.read_csv(\"파일이름. csv\")\n",
    "* txt : pd.read_csv(\"파일이름. csv\", sep=\"구분자\")\n",
    "* xlsx : pd.read_excel('파일이름.xlsx')\n",
    "* pickle : pd.read_pickle(\"파일이름.pkl\") <br>\n",
    " [참고] pickle은 파이썬의 모든 객체를 파일로 저장할 수 있는 방법으로 DataFrame,List,Dict 등 모든 객체 저장 가능(특히 sklearn라이브러리를 통해 모델을 학습시키고, 저장할 때 많이 사용)"
   ]
  },
  {
   "cell_type": "markdown",
   "id": "340abcda",
   "metadata": {
    "id": "340abcda"
   },
   "source": [
    "## 기본전제\n",
    "* 처음에 제공되는 데이터는 'raw_data' 폴더에 있습니다.\n",
    "\n",
    "[기본 데이터]\n",
    "* 1.4 business_type.csv\n",
    "\n",
    "[데이터 소개]\n",
    "* 서울시 업종 등록 데이터"
   ]
  },
  {
   "cell_type": "markdown",
   "id": "vocational-animal",
   "metadata": {
    "id": "vocational-animal"
   },
   "source": [
    "#### [실습문제1] 데이터 로딩\n",
    "* '1.4 business_type.csv'파일을 'seoul_business' 변수에 저장하고 그 데이터를 확인하세요.\n",
    "    * 데이터 파일 로딩시 참고 사항 \n",
    "        * 구분자(sep)는 ',' 입니다\n",
    "        * UTF-8 인코더를 사용해 주세요"
   ]
  },
  {
   "cell_type": "code",
   "execution_count": 2,
   "id": "saving-slope",
   "metadata": {
    "id": "saving-slope"
   },
   "outputs": [],
   "source": [
    "# 아래에 실습코드를 작성하고 결과를 확인합니다.\n",
    "import pandas as pd\n",
    "seoul_business = pd.read_csv('1.4 business_type.csv', sep=\",\", encoding = \"utf-8\")"
   ]
  },
  {
   "cell_type": "code",
   "execution_count": 3,
   "id": "funny-subcommittee",
   "metadata": {
    "id": "funny-subcommittee"
   },
   "outputs": [
    {
     "data": {
      "text/plain": [
       "(451, 22)"
      ]
     },
     "execution_count": 3,
     "metadata": {},
     "output_type": "execute_result"
    }
   ],
   "source": [
    "# 데이터 프레임의 Shape을 확인합니다.\n",
    "seoul_business.shape"
   ]
  },
  {
   "cell_type": "markdown",
   "id": "73396b42",
   "metadata": {
    "id": "73396b42"
   },
   "source": [
    "---"
   ]
  },
  {
   "cell_type": "markdown",
   "id": "annoying-trout",
   "metadata": {
    "id": "annoying-trout"
   },
   "source": [
    "# 2.기본 정보 확인 및 클렌징\n",
    "\n",
    "+ 데이터 클렌징 : 결측치, 이상치 등을 제거하여 데이터 분석 결과가 왜곡 되는 문제를 방지하기 위한 정제 과정"
   ]
  },
  {
   "cell_type": "markdown",
   "id": "romantic-johnson",
   "metadata": {
    "id": "romantic-johnson"
   },
   "source": [
    "#### [실습문제2] 기본 정보 확인하기\n",
    "* 'seoul_moving' 데이터의 정보를 확인해보세요.\n",
    "* 'describe', 'info', 'head' 등 전부 활용해 보겠습니다."
   ]
  },
  {
   "cell_type": "code",
   "execution_count": 4,
   "id": "demographic-battery",
   "metadata": {
    "id": "demographic-battery"
   },
   "outputs": [
    {
     "data": {
      "text/html": [
       "<div>\n",
       "<style scoped>\n",
       "    .dataframe tbody tr th:only-of-type {\n",
       "        vertical-align: middle;\n",
       "    }\n",
       "\n",
       "    .dataframe tbody tr th {\n",
       "        vertical-align: top;\n",
       "    }\n",
       "\n",
       "    .dataframe thead th {\n",
       "        text-align: right;\n",
       "    }\n",
       "</style>\n",
       "<table border=\"1\" class=\"dataframe\">\n",
       "  <thead>\n",
       "    <tr style=\"text-align: right;\">\n",
       "      <th></th>\n",
       "      <th>자치구</th>\n",
       "      <th>동</th>\n",
       "      <th>다수업종 상위10</th>\n",
       "      <th>다수업종 상위10.1</th>\n",
       "      <th>다수업종 상위10.2</th>\n",
       "      <th>다수업종 상위10.3</th>\n",
       "      <th>다수업종 상위10.4</th>\n",
       "      <th>다수업종 상위10.5</th>\n",
       "      <th>다수업종 상위10.6</th>\n",
       "      <th>다수업종 상위10.7</th>\n",
       "      <th>...</th>\n",
       "      <th>다수업종 상위10.10</th>\n",
       "      <th>다수업종 상위10.11</th>\n",
       "      <th>다수업종 상위10.12</th>\n",
       "      <th>다수업종 상위10.13</th>\n",
       "      <th>다수업종 상위10.14</th>\n",
       "      <th>다수업종 상위10.15</th>\n",
       "      <th>다수업종 상위10.16</th>\n",
       "      <th>다수업종 상위10.17</th>\n",
       "      <th>다수업종 상위10.18</th>\n",
       "      <th>다수업종 상위10.19</th>\n",
       "    </tr>\n",
       "  </thead>\n",
       "  <tbody>\n",
       "    <tr>\n",
       "      <th>0</th>\n",
       "      <td>자치구</td>\n",
       "      <td>동</td>\n",
       "      <td>택시운송업</td>\n",
       "      <td>택시운송업</td>\n",
       "      <td>한식 일반 음식점업</td>\n",
       "      <td>한식 일반 음식점업</td>\n",
       "      <td>용달 화물자동차 운송업</td>\n",
       "      <td>용달 화물자동차 운송업</td>\n",
       "      <td>부동산 중개 및 대리업</td>\n",
       "      <td>부동산 중개 및 대리업</td>\n",
       "      <td>...</td>\n",
       "      <td>커피전문점</td>\n",
       "      <td>커피전문점</td>\n",
       "      <td>남녀용 겉옷 및 셔츠 도매업</td>\n",
       "      <td>남녀용 겉옷 및 셔츠 도매업</td>\n",
       "      <td>기타주점업</td>\n",
       "      <td>기타주점업</td>\n",
       "      <td>일반 교과 학원</td>\n",
       "      <td>일반 교과 학원</td>\n",
       "      <td>한식 육류요리 전문점</td>\n",
       "      <td>한식 육류요리 전문점</td>\n",
       "    </tr>\n",
       "    <tr>\n",
       "      <th>1</th>\n",
       "      <td>자치구</td>\n",
       "      <td>동</td>\n",
       "      <td>사업체수</td>\n",
       "      <td>종사자수</td>\n",
       "      <td>사업체수</td>\n",
       "      <td>종사자수</td>\n",
       "      <td>사업체수</td>\n",
       "      <td>종사자수</td>\n",
       "      <td>사업체수</td>\n",
       "      <td>종사자수</td>\n",
       "      <td>...</td>\n",
       "      <td>사업체수</td>\n",
       "      <td>종사자수</td>\n",
       "      <td>사업체수</td>\n",
       "      <td>종사자수</td>\n",
       "      <td>사업체수</td>\n",
       "      <td>종사자수</td>\n",
       "      <td>사업체수</td>\n",
       "      <td>종사자수</td>\n",
       "      <td>사업체수</td>\n",
       "      <td>종사자수</td>\n",
       "    </tr>\n",
       "    <tr>\n",
       "      <th>2</th>\n",
       "      <td>합계</td>\n",
       "      <td>합계</td>\n",
       "      <td>47,176</td>\n",
       "      <td>76,701</td>\n",
       "      <td>29,225</td>\n",
       "      <td>100,183</td>\n",
       "      <td>28,494</td>\n",
       "      <td>29,356</td>\n",
       "      <td>24,013</td>\n",
       "      <td>42,636</td>\n",
       "      <td>...</td>\n",
       "      <td>16,255</td>\n",
       "      <td>57,322</td>\n",
       "      <td>13,388</td>\n",
       "      <td>51,116</td>\n",
       "      <td>13,339</td>\n",
       "      <td>31,371</td>\n",
       "      <td>11,911</td>\n",
       "      <td>50,773</td>\n",
       "      <td>11,109</td>\n",
       "      <td>44,653</td>\n",
       "    </tr>\n",
       "    <tr>\n",
       "      <th>3</th>\n",
       "      <td>종로구</td>\n",
       "      <td>소계</td>\n",
       "      <td>215</td>\n",
       "      <td>215</td>\n",
       "      <td>1,548</td>\n",
       "      <td>5,912</td>\n",
       "      <td>618</td>\n",
       "      <td>646</td>\n",
       "      <td>549</td>\n",
       "      <td>889</td>\n",
       "      <td>...</td>\n",
       "      <td>948</td>\n",
       "      <td>3,613</td>\n",
       "      <td>400</td>\n",
       "      <td>962</td>\n",
       "      <td>537</td>\n",
       "      <td>1,413</td>\n",
       "      <td>110</td>\n",
       "      <td>382</td>\n",
       "      <td>437</td>\n",
       "      <td>1,982</td>\n",
       "    </tr>\n",
       "    <tr>\n",
       "      <th>4</th>\n",
       "      <td>종로구</td>\n",
       "      <td>사직동</td>\n",
       "      <td>7</td>\n",
       "      <td>7</td>\n",
       "      <td>230</td>\n",
       "      <td>982</td>\n",
       "      <td>12</td>\n",
       "      <td>12</td>\n",
       "      <td>57</td>\n",
       "      <td>96</td>\n",
       "      <td>...</td>\n",
       "      <td>124</td>\n",
       "      <td>525</td>\n",
       "      <td>2</td>\n",
       "      <td>18</td>\n",
       "      <td>74</td>\n",
       "      <td>177</td>\n",
       "      <td>9</td>\n",
       "      <td>34</td>\n",
       "      <td>45</td>\n",
       "      <td>220</td>\n",
       "    </tr>\n",
       "  </tbody>\n",
       "</table>\n",
       "<p>5 rows × 22 columns</p>\n",
       "</div>"
      ],
      "text/plain": [
       "   자치구    동 다수업종 상위10 다수업종 상위10.1 다수업종 상위10.2 다수업종 상위10.3   다수업종 상위10.4  \\\n",
       "0  자치구    동     택시운송업       택시운송업  한식 일반 음식점업  한식 일반 음식점업  용달 화물자동차 운송업   \n",
       "1  자치구    동      사업체수        종사자수        사업체수        종사자수          사업체수   \n",
       "2   합계   합계    47,176      76,701      29,225     100,183        28,494   \n",
       "3  종로구   소계       215         215       1,548       5,912           618   \n",
       "4  종로구  사직동         7           7         230         982            12   \n",
       "\n",
       "    다수업종 상위10.5   다수업종 상위10.6   다수업종 상위10.7  ... 다수업종 상위10.10 다수업종 상위10.11  \\\n",
       "0  용달 화물자동차 운송업  부동산 중개 및 대리업  부동산 중개 및 대리업  ...        커피전문점        커피전문점   \n",
       "1          종사자수          사업체수          종사자수  ...         사업체수         종사자수   \n",
       "2        29,356        24,013        42,636  ...       16,255       57,322   \n",
       "3           646           549           889  ...          948        3,613   \n",
       "4            12            57            96  ...          124          525   \n",
       "\n",
       "      다수업종 상위10.12     다수업종 상위10.13 다수업종 상위10.14 다수업종 상위10.15 다수업종 상위10.16  \\\n",
       "0  남녀용 겉옷 및 셔츠 도매업  남녀용 겉옷 및 셔츠 도매업        기타주점업        기타주점업     일반 교과 학원   \n",
       "1             사업체수             종사자수         사업체수         종사자수         사업체수   \n",
       "2           13,388           51,116       13,339       31,371       11,911   \n",
       "3              400              962          537        1,413          110   \n",
       "4                2               18           74          177            9   \n",
       "\n",
       "  다수업종 상위10.17 다수업종 상위10.18 다수업종 상위10.19  \n",
       "0     일반 교과 학원  한식 육류요리 전문점  한식 육류요리 전문점  \n",
       "1         종사자수         사업체수         종사자수  \n",
       "2       50,773       11,109       44,653  \n",
       "3          382          437        1,982  \n",
       "4           34           45          220  \n",
       "\n",
       "[5 rows x 22 columns]"
      ]
     },
     "execution_count": 4,
     "metadata": {},
     "output_type": "execute_result"
    }
   ],
   "source": [
    "# 아래에 실습코드를 작성하고 결과를 확인합니다.\n",
    "seoul_business.head()"
   ]
  },
  {
   "cell_type": "code",
   "execution_count": 5,
   "id": "283d8aa3",
   "metadata": {},
   "outputs": [
    {
     "name": "stdout",
     "output_type": "stream",
     "text": [
      "<class 'pandas.core.frame.DataFrame'>\n",
      "RangeIndex: 451 entries, 0 to 450\n",
      "Data columns (total 22 columns):\n",
      " #   Column        Non-Null Count  Dtype \n",
      "---  ------        --------------  ----- \n",
      " 0   자치구           451 non-null    object\n",
      " 1   동             451 non-null    object\n",
      " 2   다수업종 상위10     451 non-null    object\n",
      " 3   다수업종 상위10.1   451 non-null    object\n",
      " 4   다수업종 상위10.2   451 non-null    object\n",
      " 5   다수업종 상위10.3   451 non-null    object\n",
      " 6   다수업종 상위10.4   451 non-null    object\n",
      " 7   다수업종 상위10.5   451 non-null    object\n",
      " 8   다수업종 상위10.6   451 non-null    object\n",
      " 9   다수업종 상위10.7   451 non-null    object\n",
      " 10  다수업종 상위10.8   451 non-null    object\n",
      " 11  다수업종 상위10.9   451 non-null    object\n",
      " 12  다수업종 상위10.10  451 non-null    object\n",
      " 13  다수업종 상위10.11  451 non-null    object\n",
      " 14  다수업종 상위10.12  451 non-null    object\n",
      " 15  다수업종 상위10.13  451 non-null    object\n",
      " 16  다수업종 상위10.14  451 non-null    object\n",
      " 17  다수업종 상위10.15  451 non-null    object\n",
      " 18  다수업종 상위10.16  451 non-null    object\n",
      " 19  다수업종 상위10.17  451 non-null    object\n",
      " 20  다수업종 상위10.18  451 non-null    object\n",
      " 21  다수업종 상위10.19  451 non-null    object\n",
      "dtypes: object(22)\n",
      "memory usage: 77.6+ KB\n"
     ]
    }
   ],
   "source": [
    "seoul_business.info()"
   ]
  },
  {
   "cell_type": "code",
   "execution_count": 6,
   "id": "940a114a",
   "metadata": {
    "id": "940a114a"
   },
   "outputs": [
    {
     "data": {
      "text/html": [
       "<div>\n",
       "<style scoped>\n",
       "    .dataframe tbody tr th:only-of-type {\n",
       "        vertical-align: middle;\n",
       "    }\n",
       "\n",
       "    .dataframe tbody tr th {\n",
       "        vertical-align: top;\n",
       "    }\n",
       "\n",
       "    .dataframe thead th {\n",
       "        text-align: right;\n",
       "    }\n",
       "</style>\n",
       "<table border=\"1\" class=\"dataframe\">\n",
       "  <thead>\n",
       "    <tr style=\"text-align: right;\">\n",
       "      <th></th>\n",
       "      <th>자치구</th>\n",
       "      <th>동</th>\n",
       "      <th>다수업종 상위10</th>\n",
       "      <th>다수업종 상위10.1</th>\n",
       "      <th>다수업종 상위10.2</th>\n",
       "      <th>다수업종 상위10.3</th>\n",
       "      <th>다수업종 상위10.4</th>\n",
       "      <th>다수업종 상위10.5</th>\n",
       "      <th>다수업종 상위10.6</th>\n",
       "      <th>다수업종 상위10.7</th>\n",
       "      <th>...</th>\n",
       "      <th>다수업종 상위10.10</th>\n",
       "      <th>다수업종 상위10.11</th>\n",
       "      <th>다수업종 상위10.12</th>\n",
       "      <th>다수업종 상위10.13</th>\n",
       "      <th>다수업종 상위10.14</th>\n",
       "      <th>다수업종 상위10.15</th>\n",
       "      <th>다수업종 상위10.16</th>\n",
       "      <th>다수업종 상위10.17</th>\n",
       "      <th>다수업종 상위10.18</th>\n",
       "      <th>다수업종 상위10.19</th>\n",
       "    </tr>\n",
       "  </thead>\n",
       "  <tbody>\n",
       "    <tr>\n",
       "      <th>count</th>\n",
       "      <td>451</td>\n",
       "      <td>451</td>\n",
       "      <td>451</td>\n",
       "      <td>451</td>\n",
       "      <td>451</td>\n",
       "      <td>451</td>\n",
       "      <td>451</td>\n",
       "      <td>451</td>\n",
       "      <td>451</td>\n",
       "      <td>451</td>\n",
       "      <td>...</td>\n",
       "      <td>451</td>\n",
       "      <td>451</td>\n",
       "      <td>451</td>\n",
       "      <td>451</td>\n",
       "      <td>451</td>\n",
       "      <td>451</td>\n",
       "      <td>451</td>\n",
       "      <td>451</td>\n",
       "      <td>451</td>\n",
       "      <td>451</td>\n",
       "    </tr>\n",
       "    <tr>\n",
       "      <th>unique</th>\n",
       "      <td>27</td>\n",
       "      <td>425</td>\n",
       "      <td>226</td>\n",
       "      <td>280</td>\n",
       "      <td>176</td>\n",
       "      <td>305</td>\n",
       "      <td>177</td>\n",
       "      <td>180</td>\n",
       "      <td>142</td>\n",
       "      <td>205</td>\n",
       "      <td>...</td>\n",
       "      <td>131</td>\n",
       "      <td>239</td>\n",
       "      <td>69</td>\n",
       "      <td>147</td>\n",
       "      <td>127</td>\n",
       "      <td>189</td>\n",
       "      <td>113</td>\n",
       "      <td>222</td>\n",
       "      <td>107</td>\n",
       "      <td>230</td>\n",
       "    </tr>\n",
       "    <tr>\n",
       "      <th>top</th>\n",
       "      <td>송파구</td>\n",
       "      <td>소계</td>\n",
       "      <td>71</td>\n",
       "      <td>11</td>\n",
       "      <td>24</td>\n",
       "      <td>104</td>\n",
       "      <td>56</td>\n",
       "      <td>56</td>\n",
       "      <td>40</td>\n",
       "      <td>54</td>\n",
       "      <td>...</td>\n",
       "      <td>13</td>\n",
       "      <td>16</td>\n",
       "      <td>-</td>\n",
       "      <td>-</td>\n",
       "      <td>18</td>\n",
       "      <td>20</td>\n",
       "      <td>4</td>\n",
       "      <td>42</td>\n",
       "      <td>17</td>\n",
       "      <td>45</td>\n",
       "    </tr>\n",
       "    <tr>\n",
       "      <th>freq</th>\n",
       "      <td>28</td>\n",
       "      <td>25</td>\n",
       "      <td>7</td>\n",
       "      <td>7</td>\n",
       "      <td>11</td>\n",
       "      <td>6</td>\n",
       "      <td>8</td>\n",
       "      <td>9</td>\n",
       "      <td>11</td>\n",
       "      <td>9</td>\n",
       "      <td>...</td>\n",
       "      <td>18</td>\n",
       "      <td>8</td>\n",
       "      <td>82</td>\n",
       "      <td>82</td>\n",
       "      <td>14</td>\n",
       "      <td>10</td>\n",
       "      <td>15</td>\n",
       "      <td>10</td>\n",
       "      <td>16</td>\n",
       "      <td>9</td>\n",
       "    </tr>\n",
       "  </tbody>\n",
       "</table>\n",
       "<p>4 rows × 22 columns</p>\n",
       "</div>"
      ],
      "text/plain": [
       "        자치구    동 다수업종 상위10 다수업종 상위10.1 다수업종 상위10.2 다수업종 상위10.3 다수업종 상위10.4  \\\n",
       "count   451  451       451         451         451         451         451   \n",
       "unique   27  425       226         280         176         305         177   \n",
       "top     송파구   소계        71          11          24         104          56   \n",
       "freq     28   25         7           7          11           6           8   \n",
       "\n",
       "       다수업종 상위10.5 다수업종 상위10.6 다수업종 상위10.7  ... 다수업종 상위10.10 다수업종 상위10.11  \\\n",
       "count          451         451         451  ...          451          451   \n",
       "unique         180         142         205  ...          131          239   \n",
       "top             56          40          54  ...           13           16   \n",
       "freq             9          11           9  ...           18            8   \n",
       "\n",
       "       다수업종 상위10.12 다수업종 상위10.13 다수업종 상위10.14 다수업종 상위10.15 다수업종 상위10.16  \\\n",
       "count           451          451          451          451          451   \n",
       "unique           69          147          127          189          113   \n",
       "top               -            -           18           20            4   \n",
       "freq             82           82           14           10           15   \n",
       "\n",
       "       다수업종 상위10.17 다수업종 상위10.18 다수업종 상위10.19  \n",
       "count           451          451          451  \n",
       "unique          222          107          230  \n",
       "top              42           17           45  \n",
       "freq             10           16            9  \n",
       "\n",
       "[4 rows x 22 columns]"
      ]
     },
     "execution_count": 6,
     "metadata": {},
     "output_type": "execute_result"
    }
   ],
   "source": [
    "# 아래에 실습코드를 작성하고 결과를 확인합니다.\n",
    "seoul_business.describe()"
   ]
  },
  {
   "cell_type": "markdown",
   "id": "003322b3",
   "metadata": {
    "id": "003322b3"
   },
   "source": [
    "#### [실습문제3] 데이터 확인 및 처리\n",
    "\n",
    "* 데이터를 보았을때, 어느 데이터를 가져와야 할지 생각 해 봅시다."
   ]
  },
  {
   "cell_type": "code",
   "execution_count": 7,
   "id": "82625f35",
   "metadata": {},
   "outputs": [],
   "source": [
    "seoul_business = seoul_business.loc[(seoul_business['동'] == '합계') | (seoul_business['동'] == '소계'),]\n",
    "seoul_business.drop('동', axis=1, inplace=True)\n",
    "seoul_business.columns = ['자치구', '택시운송업 사업체수', '택시운송업 종사자수', '한식 일반 음식점업 사업체수', '한식 일반 음식점업 종사자수', '용달 화물 자동차 운송업 사업체수', '용달 화물 자동차 운송업 종사자수',\n",
    "                          '부동산 중개 및 대리업 사업체수', '부동산 중개 및 대리업 종사자수', '두발미용업 사업체수', '두발미용업 종사자수', '커피전문점 사업체수', '커피전문점 종사자수', '남녀용 겉옷 및 셔츠 도매업 사업체수', '남녀용 겉옷 및 셔츠 도매업 종사자수',\n",
    "                          '기타주점업 사업체수', '기타주점업 종사자수', '일반 교과 학원 사업체수', '일반 교과 학원 종사자수', '한식 육류 요리 전문점 사업체수', '한식 육류 요리 전문점 종사자수']\n",
    "seoul_business.reset_index(drop=True, inplace=True)\n",
    "\n",
    "for column in seoul_business.columns[1:]:\n",
    "    seoul_business[column] = seoul_business[column].str.replace(',','').astype('int')"
   ]
  },
  {
   "cell_type": "code",
   "execution_count": 8,
   "id": "59469058",
   "metadata": {},
   "outputs": [],
   "source": [
    "seoul_business.drop(['남녀용 겉옷 및 셔츠 도매업 사업체수','남녀용 겉옷 및 셔츠 도매업 종사자수'], axis=1, inplace=True)"
   ]
  },
  {
   "cell_type": "code",
   "execution_count": 9,
   "id": "da88ca41",
   "metadata": {},
   "outputs": [],
   "source": [
    "business_list = ['택시운송업 사업체수','한식 일반 음식점업 사업체수','용달 화물 자동차 운송업 사업체수','부동산 중개 및 대리업 사업체수','두발미용업 사업체수','커피전문점 사업체수','기타주점업 사업체수','일반 교과 학원 사업체수','한식 육류 요리 전문점 사업체수']\n",
    "people_list = ['택시운송업 종사자수','한식 일반 음식점업 종사자수','용달 화물 자동차 운송업 종사자수','부동산 중개 및 대리업 종사자수','두발미용업 종사자수','커피전문점 종사자수','기타주점업 종사자수','일반 교과 학원 종사자수','한식 육류 요리 전문점 종사자수']\n",
    "\n",
    "seoul_business['총 사업체 수'] = seoul_business.loc[:,business_list].sum(axis=1)\n",
    "seoul_business['총 종사자 수'] = seoul_business.loc[:,people_list].sum(axis=1)\n",
    "seoul_business['운송업 사업체수'] = seoul_business.loc[:,'용달 화물 자동차 운송업 사업체수'] + seoul_business.loc[:,'택시운송업 사업체수']\n",
    "seoul_business['음식점 사업체수'] = seoul_business.loc[:,'한식 육류 요리 전문점 사업체수'] + seoul_business.loc[:,'한식 일반 음식점업 사업체수']\n",
    "seoul_business['운송업 종사자수'] = seoul_business.loc[:,'용달 화물 자동차 운송업 종사자수'] + seoul_business.loc[:,'택시운송업 종사자수']\n",
    "seoul_business['음식점 종사자수'] = seoul_business.loc[:,'한식 육류 요리 전문점 종사자수'] + seoul_business.loc[:,'한식 일반 음식점업 종사자수']\n",
    "seoul_business['야간상주지 수치'] = seoul_business.loc[:,'부동산 중개 및 대리업 사업체수'] + seoul_business.loc[:,'일반 교과 학원 사업체수'] + seoul_business.loc[:,'두발미용업 사업체수'] + seoul_business.loc[:,'부동산 중개 및 대리업 종사자수'] + seoul_business.loc[:,'일반 교과 학원 종사자수'] + seoul_business.loc[:,'두발미용업 종사자수']\n",
    "seoul_business['주간상주지 수치'] = seoul_business.loc[:,'커피전문점 사업체수'] + seoul_business.loc[:,'한식 일반 음식점업 사업체수'] + seoul_business.loc[:,'한식 육류 요리 전문점 사업체수'] + seoul_business.loc[:,'커피전문점 종사자수'] + seoul_business.loc[:,'한식 일반 음식점업 종사자수'] + seoul_business.loc[:,'한식 육류 요리 전문점 종사자수']\n",
    "seoul_business['기타 수치'] = seoul_business.loc[:,'기타주점업 사업체수'] + seoul_business.loc[:,'커피전문점 사업체수'] + seoul_business.loc[:,'한식 일반 음식점업 사업체수'] + seoul_business.loc[:,'한식 육류 요리 전문점 사업체수'] + seoul_business.loc[:,'기타주점업 종사자수'] + seoul_business.loc[:,'커피전문점 종사자수'] + seoul_business.loc[:,'한식 일반 음식점업 종사자수'] + seoul_business.loc[:,'한식 육류 요리 전문점 종사자수']\n",
    "seoul_business['야간상주지 판단 사업체 비율'] = (seoul_business.loc[:,'부동산 중개 및 대리업 사업체수'] + seoul_business.loc[:,'일반 교과 학원 사업체수'] + seoul_business.loc[:,'두발미용업 사업체수']) / seoul_business['총 사업체 수']\n",
    "\n",
    "seoul_business.drop(['용달 화물 자동차 운송업 사업체수','용달 화물 자동차 운송업 종사자수','택시운송업 사업체수','택시운송업 종사자수','한식 육류 요리 전문점 사업체수','한식 육류 요리 전문점 종사자수',\n",
    "                     '한식 일반 음식점업 사업체수','한식 일반 음식점업 종사자수'],axis=1,inplace=True)"
   ]
  },
  {
   "cell_type": "code",
   "execution_count": 10,
   "id": "d76ba953",
   "metadata": {},
   "outputs": [
    {
     "data": {
      "text/html": [
       "<div>\n",
       "<style scoped>\n",
       "    .dataframe tbody tr th:only-of-type {\n",
       "        vertical-align: middle;\n",
       "    }\n",
       "\n",
       "    .dataframe tbody tr th {\n",
       "        vertical-align: top;\n",
       "    }\n",
       "\n",
       "    .dataframe thead th {\n",
       "        text-align: right;\n",
       "    }\n",
       "</style>\n",
       "<table border=\"1\" class=\"dataframe\">\n",
       "  <thead>\n",
       "    <tr style=\"text-align: right;\">\n",
       "      <th></th>\n",
       "      <th>자치구</th>\n",
       "      <th>부동산 중개 및 대리업 사업체수</th>\n",
       "      <th>부동산 중개 및 대리업 종사자수</th>\n",
       "      <th>두발미용업 사업체수</th>\n",
       "      <th>두발미용업 종사자수</th>\n",
       "      <th>커피전문점 사업체수</th>\n",
       "      <th>커피전문점 종사자수</th>\n",
       "      <th>기타주점업 사업체수</th>\n",
       "      <th>기타주점업 종사자수</th>\n",
       "      <th>일반 교과 학원 사업체수</th>\n",
       "      <th>...</th>\n",
       "      <th>총 사업체 수</th>\n",
       "      <th>총 종사자 수</th>\n",
       "      <th>운송업 사업체수</th>\n",
       "      <th>음식점 사업체수</th>\n",
       "      <th>운송업 종사자수</th>\n",
       "      <th>음식점 종사자수</th>\n",
       "      <th>야간상주지 수치</th>\n",
       "      <th>주간상주지 수치</th>\n",
       "      <th>기타 수치</th>\n",
       "      <th>야간상주지 판단 사업체 비율</th>\n",
       "    </tr>\n",
       "  </thead>\n",
       "  <tbody>\n",
       "    <tr>\n",
       "      <th>0</th>\n",
       "      <td>합계</td>\n",
       "      <td>24013</td>\n",
       "      <td>42636</td>\n",
       "      <td>18080</td>\n",
       "      <td>36214</td>\n",
       "      <td>16255</td>\n",
       "      <td>57322</td>\n",
       "      <td>13339</td>\n",
       "      <td>31371</td>\n",
       "      <td>11911</td>\n",
       "      <td>...</td>\n",
       "      <td>199602</td>\n",
       "      <td>469209</td>\n",
       "      <td>75670</td>\n",
       "      <td>40334</td>\n",
       "      <td>106057</td>\n",
       "      <td>144836</td>\n",
       "      <td>183627</td>\n",
       "      <td>258747</td>\n",
       "      <td>303457</td>\n",
       "      <td>0.270558</td>\n",
       "    </tr>\n",
       "    <tr>\n",
       "      <th>1</th>\n",
       "      <td>종로구</td>\n",
       "      <td>549</td>\n",
       "      <td>889</td>\n",
       "      <td>261</td>\n",
       "      <td>480</td>\n",
       "      <td>948</td>\n",
       "      <td>3613</td>\n",
       "      <td>537</td>\n",
       "      <td>1413</td>\n",
       "      <td>110</td>\n",
       "      <td>...</td>\n",
       "      <td>5223</td>\n",
       "      <td>15532</td>\n",
       "      <td>833</td>\n",
       "      <td>1985</td>\n",
       "      <td>861</td>\n",
       "      <td>7894</td>\n",
       "      <td>2671</td>\n",
       "      <td>14440</td>\n",
       "      <td>16390</td>\n",
       "      <td>0.176144</td>\n",
       "    </tr>\n",
       "    <tr>\n",
       "      <th>2</th>\n",
       "      <td>중구</td>\n",
       "      <td>576</td>\n",
       "      <td>1152</td>\n",
       "      <td>339</td>\n",
       "      <td>816</td>\n",
       "      <td>869</td>\n",
       "      <td>3542</td>\n",
       "      <td>381</td>\n",
       "      <td>982</td>\n",
       "      <td>57</td>\n",
       "      <td>...</td>\n",
       "      <td>4783</td>\n",
       "      <td>15770</td>\n",
       "      <td>530</td>\n",
       "      <td>2031</td>\n",
       "      <td>568</td>\n",
       "      <td>8535</td>\n",
       "      <td>3115</td>\n",
       "      <td>14977</td>\n",
       "      <td>16340</td>\n",
       "      <td>0.203220</td>\n",
       "    </tr>\n",
       "    <tr>\n",
       "      <th>3</th>\n",
       "      <td>용산구</td>\n",
       "      <td>791</td>\n",
       "      <td>1214</td>\n",
       "      <td>366</td>\n",
       "      <td>777</td>\n",
       "      <td>634</td>\n",
       "      <td>2076</td>\n",
       "      <td>487</td>\n",
       "      <td>1332</td>\n",
       "      <td>104</td>\n",
       "      <td>...</td>\n",
       "      <td>4410</td>\n",
       "      <td>11132</td>\n",
       "      <td>871</td>\n",
       "      <td>1157</td>\n",
       "      <td>989</td>\n",
       "      <td>4171</td>\n",
       "      <td>3825</td>\n",
       "      <td>8038</td>\n",
       "      <td>9857</td>\n",
       "      <td>0.285941</td>\n",
       "    </tr>\n",
       "    <tr>\n",
       "      <th>4</th>\n",
       "      <td>성동구</td>\n",
       "      <td>801</td>\n",
       "      <td>1453</td>\n",
       "      <td>489</td>\n",
       "      <td>851</td>\n",
       "      <td>547</td>\n",
       "      <td>1859</td>\n",
       "      <td>285</td>\n",
       "      <td>621</td>\n",
       "      <td>258</td>\n",
       "      <td>...</td>\n",
       "      <td>6008</td>\n",
       "      <td>14296</td>\n",
       "      <td>2272</td>\n",
       "      <td>1356</td>\n",
       "      <td>3688</td>\n",
       "      <td>4330</td>\n",
       "      <td>5346</td>\n",
       "      <td>8092</td>\n",
       "      <td>8998</td>\n",
       "      <td>0.257656</td>\n",
       "    </tr>\n",
       "  </tbody>\n",
       "</table>\n",
       "<p>5 rows × 21 columns</p>\n",
       "</div>"
      ],
      "text/plain": [
       "   자치구  부동산 중개 및 대리업 사업체수  부동산 중개 및 대리업 종사자수  두발미용업 사업체수  두발미용업 종사자수  \\\n",
       "0   합계              24013              42636       18080       36214   \n",
       "1  종로구                549                889         261         480   \n",
       "2   중구                576               1152         339         816   \n",
       "3  용산구                791               1214         366         777   \n",
       "4  성동구                801               1453         489         851   \n",
       "\n",
       "   커피전문점 사업체수  커피전문점 종사자수  기타주점업 사업체수  기타주점업 종사자수  일반 교과 학원 사업체수  ...  \\\n",
       "0       16255       57322       13339       31371          11911  ...   \n",
       "1         948        3613         537        1413            110  ...   \n",
       "2         869        3542         381         982             57  ...   \n",
       "3         634        2076         487        1332            104  ...   \n",
       "4         547        1859         285         621            258  ...   \n",
       "\n",
       "   총 사업체 수  총 종사자 수  운송업 사업체수  음식점 사업체수  운송업 종사자수  음식점 종사자수  야간상주지 수치  \\\n",
       "0   199602   469209     75670     40334    106057    144836    183627   \n",
       "1     5223    15532       833      1985       861      7894      2671   \n",
       "2     4783    15770       530      2031       568      8535      3115   \n",
       "3     4410    11132       871      1157       989      4171      3825   \n",
       "4     6008    14296      2272      1356      3688      4330      5346   \n",
       "\n",
       "   주간상주지 수치   기타 수치  야간상주지 판단 사업체 비율  \n",
       "0    258747  303457         0.270558  \n",
       "1     14440   16390         0.176144  \n",
       "2     14977   16340         0.203220  \n",
       "3      8038    9857         0.285941  \n",
       "4      8092    8998         0.257656  \n",
       "\n",
       "[5 rows x 21 columns]"
      ]
     },
     "execution_count": 10,
     "metadata": {},
     "output_type": "execute_result"
    }
   ],
   "source": [
    "seoul_business.head()"
   ]
  },
  {
   "cell_type": "code",
   "execution_count": 11,
   "id": "39eb59e7",
   "metadata": {
    "id": "39eb59e7"
   },
   "outputs": [],
   "source": [
    "# 해당 데이터프레임을 'df_seoul_moving.csv' 파일로 저장하세요\n",
    "seoul_business.to_csv(\"df_seoul_business.csv\", index = False)"
   ]
  },
  {
   "cell_type": "code",
   "execution_count": 12,
   "id": "14ed7c39",
   "metadata": {},
   "outputs": [
    {
     "name": "stdout",
     "output_type": "stream",
     "text": [
      "<class 'pandas.core.frame.DataFrame'>\n",
      "RangeIndex: 26 entries, 0 to 25\n",
      "Data columns (total 21 columns):\n",
      " #   Column             Non-Null Count  Dtype  \n",
      "---  ------             --------------  -----  \n",
      " 0   자치구                26 non-null     object \n",
      " 1   부동산 중개 및 대리업 사업체수  26 non-null     int32  \n",
      " 2   부동산 중개 및 대리업 종사자수  26 non-null     int32  \n",
      " 3   두발미용업 사업체수         26 non-null     int32  \n",
      " 4   두발미용업 종사자수         26 non-null     int32  \n",
      " 5   커피전문점 사업체수         26 non-null     int32  \n",
      " 6   커피전문점 종사자수         26 non-null     int32  \n",
      " 7   기타주점업 사업체수         26 non-null     int32  \n",
      " 8   기타주점업 종사자수         26 non-null     int32  \n",
      " 9   일반 교과 학원 사업체수      26 non-null     int32  \n",
      " 10  일반 교과 학원 종사자수      26 non-null     int32  \n",
      " 11  총 사업체 수            26 non-null     int64  \n",
      " 12  총 종사자 수            26 non-null     int64  \n",
      " 13  운송업 사업체수           26 non-null     int32  \n",
      " 14  음식점 사업체수           26 non-null     int32  \n",
      " 15  운송업 종사자수           26 non-null     int32  \n",
      " 16  음식점 종사자수           26 non-null     int32  \n",
      " 17  야간상주지 수치           26 non-null     int32  \n",
      " 18  주간상주지 수치           26 non-null     int32  \n",
      " 19  기타 수치              26 non-null     int32  \n",
      " 20  야간상주지 판단 사업체 비율    26 non-null     float64\n",
      "dtypes: float64(1), int32(17), int64(2), object(1)\n",
      "memory usage: 2.7+ KB\n"
     ]
    }
   ],
   "source": [
    "seoul_business.info()"
   ]
  },
  {
   "cell_type": "markdown",
   "id": "602b8bae",
   "metadata": {
    "id": "602b8bae"
   },
   "source": [
    "---"
   ]
  },
  {
   "cell_type": "markdown",
   "id": "southeast-integration",
   "metadata": {
    "id": "southeast-integration"
   },
   "source": [
    "# 3.데이터 분석하기\n",
    "+ KeyPoint : 데이터의 형태를 살펴보고 다양한 분석기법을 통해 모델링에 적합하도록 정제요소를 선별할 수 있다.\n",
    "  * 데이터들의 패턴 탐색\n",
    "  * 변수들간의 관계 파악"
   ]
  },
  {
   "cell_type": "code",
   "execution_count": 14,
   "id": "194ae01d",
   "metadata": {
    "id": "194ae01d"
   },
   "outputs": [],
   "source": [
    "# 시각화 한글폰트 설정\n",
    "import seaborn as sns\n",
    "import matplotlib.pyplot as plt\n",
    "\n",
    "plt.rcParams['font.family'] = 'Malgun Gothic'\n",
    "sns.set(font=\"Malgun Gothic\",#\"NanumGothicCoding\", \n",
    "        rc={\"axes.unicode_minus\":False}, # 마이너스 부호 깨짐 현상 해결\n",
    "        style='darkgrid') "
   ]
  },
  {
   "cell_type": "markdown",
   "id": "material-complex",
   "metadata": {
    "id": "material-complex"
   },
   "source": [
    "#### [실습문제4] 데이터 분포 알아보기\n",
    "* 다양한 변수를 기준으로 그래프를 그려보고 인사이트를 도출해보세요."
   ]
  },
  {
   "cell_type": "code",
   "execution_count": null,
   "id": "2a610ade",
   "metadata": {
    "id": "2a610ade",
    "scrolled": false
   },
   "outputs": [],
   "source": [
    "# 아래에 실습코드를 작성하고 결과를 확인합니다.\n"
   ]
  },
  {
   "cell_type": "code",
   "execution_count": null,
   "id": "ce0af14b",
   "metadata": {
    "id": "ce0af14b"
   },
   "outputs": [],
   "source": [
    "# 아래에 실습코드를 작성하고 결과를 확인합니다."
   ]
  },
  {
   "cell_type": "code",
   "execution_count": null,
   "id": "8cc4598f",
   "metadata": {
    "id": "8cc4598f"
   },
   "outputs": [],
   "source": [
    "# 아래에 실습코드를 작성하고 결과를 확인합니다."
   ]
  },
  {
   "cell_type": "code",
   "execution_count": null,
   "id": "86892a60",
   "metadata": {
    "id": "86892a60"
   },
   "outputs": [],
   "source": [
    "# 위 차트를 통해 알게된 사실을 정리해봅시다.\n",
    "# 1. \n",
    "# 2.\n",
    "# 3."
   ]
  },
  {
   "cell_type": "markdown",
   "id": "ca567b34",
   "metadata": {
    "id": "ca567b34"
   },
   "source": [
    "---"
   ]
  }
 ],
 "metadata": {
  "colab": {
   "collapsed_sections": [],
   "provenance": []
  },
  "kernelspec": {
   "display_name": "Python 3 (ipykernel)",
   "language": "python",
   "name": "python3"
  },
  "language_info": {
   "codemirror_mode": {
    "name": "ipython",
    "version": 3
   },
   "file_extension": ".py",
   "mimetype": "text/x-python",
   "name": "python",
   "nbconvert_exporter": "python",
   "pygments_lexer": "ipython3",
   "version": "3.11.2"
  },
  "vscode": {
   "interpreter": {
    "hash": "f08154012ddadd8e950e6e9e035c7a7b32c136e7647e9b7c77e02eb723a8bedb"
   }
  }
 },
 "nbformat": 4,
 "nbformat_minor": 5
}
